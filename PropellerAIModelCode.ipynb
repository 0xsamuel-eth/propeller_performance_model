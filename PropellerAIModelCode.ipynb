{
  "nbformat": 4,
  "nbformat_minor": 0,
  "metadata": {
    "colab": {
      "provenance": []
    },
    "kernelspec": {
      "name": "python3",
      "display_name": "Python 3"
    },
    "language_info": {
      "name": "python"
    }
  },
  "cells": [
    {
      "cell_type": "markdown",
      "source": [
        "# New Section"
      ],
      "metadata": {
        "id": "zZMy926Hyg9L"
      }
    },
    {
      "cell_type": "markdown",
      "source": [
        "Import necessary libraries"
      ],
      "metadata": {
        "id": "2I6hAfbMpmt7"
      }
    },
    {
      "cell_type": "code",
      "source": [
        "#import the necessary libraries\n",
        "import numpy as np\n",
        "import pandas as pd\n",
        "import matplotlib.pyplot as plt\n",
        "import sklearn\n",
        "import seaborn as sns\n",
        "from sklearn.model_selection import train_test_split\n",
        "from sklearn.linear_model import LogisticRegression\n",
        "from sklearn.linear_model import LinearRegression\n",
        "from sklearn.preprocessing import PolynomialFeatures\n",
        "from sklearn.metrics import r2_score\n",
        "from sklearn.linear_model import SGDRegressor\n",
        "from sklearn.pipeline import make_pipeline\n",
        "from sklearn.preprocessing import StandardScaler\n",
        "from sklearn.naive_bayes import MultinomialNB\n",
        "from sklearn import preprocessing\n",
        "from sklearn.metrics import accuracy_score\n",
        "from sklearn.metrics import confusion_matrix\n",
        "from sklearn.metrics import classification_report\n",
        "from sklearn.neighbors import KNeighborsClassifier\n",
        "from sklearn import preprocessing\n",
        "from sklearn import utils\n",
        "!pip install -Uqq ipdb\n",
        "import ipdb"
      ],
      "metadata": {
        "id": "ukIY8O6SkeAy"
      },
      "execution_count": null,
      "outputs": []
    },
    {
      "cell_type": "markdown",
      "source": [
        "Import data"
      ],
      "metadata": {
        "id": "jQaVwJsgkZAe"
      }
    },
    {
      "cell_type": "code",
      "source": [
        "#import propeller experimental data\n",
        "data1 = pd.read_csv(\"/content/volume1_exp.csv\")\n",
        "data2 = pd.read_csv(\"/content/volume2_exp.csv\")\n",
        "data3 = pd.read_csv(\"/content/volume3_exp.csv\")\n",
        "\n",
        "data1.head(20)\n"
      ],
      "metadata": {
        "id": "UgvyUOAEkaHK",
        "colab": {
          "base_uri": "https://localhost:8080/",
          "height": 676
        },
        "outputId": "87d6c612-a211-4cc7-b1b8-116e8ea3b7bc"
      },
      "execution_count": null,
      "outputs": [
        {
          "output_type": "execute_result",
          "data": {
            "text/plain": [
              "            PropName     BladeName Family  B    D    P      J     N      CT  \\\n",
              "0   ance 8.5x6.0 - 2  ance 8.5x6.0   ance  2  8.5  6.0  0.165  4000  0.0993   \n",
              "1   ance 8.5x6.0 - 2  ance 8.5x6.0   ance  2  8.5  6.0  0.214  4000  0.0947   \n",
              "2   ance 8.5x6.0 - 2  ance 8.5x6.0   ance  2  8.5  6.0  0.255  4000  0.0916   \n",
              "3   ance 8.5x6.0 - 2  ance 8.5x6.0   ance  2  8.5  6.0  0.301  4000  0.0847   \n",
              "4   ance 8.5x6.0 - 2  ance 8.5x6.0   ance  2  8.5  6.0  0.340  4000  0.0796   \n",
              "5   ance 8.5x6.0 - 2  ance 8.5x6.0   ance  2  8.5  6.0  0.400  4000  0.0718   \n",
              "6   ance 8.5x6.0 - 2  ance 8.5x6.0   ance  2  8.5  6.0  0.438  4000  0.0659   \n",
              "7   ance 8.5x6.0 - 2  ance 8.5x6.0   ance  2  8.5  6.0  0.483  4000  0.0583   \n",
              "8   ance 8.5x6.0 - 2  ance 8.5x6.0   ance  2  8.5  6.0  0.531  4000  0.0497   \n",
              "9   ance 8.5x6.0 - 2  ance 8.5x6.0   ance  2  8.5  6.0  0.567  4000  0.0430   \n",
              "10  ance 8.5x6.0 - 2  ance 8.5x6.0   ance  2  8.5  6.0  0.615  4000  0.0336   \n",
              "11  ance 8.5x6.0 - 2  ance 8.5x6.0   ance  2  8.5  6.0  0.664  4000  0.0252   \n",
              "12  ance 8.5x6.0 - 2  ance 8.5x6.0   ance  2  8.5  6.0  0.705  4000  0.0172   \n",
              "13  ance 8.5x6.0 - 2  ance 8.5x6.0   ance  2  8.5  6.0  0.753  4000  0.0091   \n",
              "14  ance 8.5x6.0 - 2  ance 8.5x6.0   ance  2  8.5  6.0  0.790  4000  0.0025   \n",
              "15  ance 8.5x6.0 - 2  ance 8.5x6.0   ance  2  8.5  6.0  0.134  5004  0.1035   \n",
              "16  ance 8.5x6.0 - 2  ance 8.5x6.0   ance  2  8.5  6.0  0.169  5004  0.1016   \n",
              "17  ance 8.5x6.0 - 2  ance 8.5x6.0   ance  2  8.5  6.0  0.205  5004  0.0984   \n",
              "18  ance 8.5x6.0 - 2  ance 8.5x6.0   ance  2  8.5  6.0  0.239  5004  0.0953   \n",
              "19  ance 8.5x6.0 - 2  ance 8.5x6.0   ance  2  8.5  6.0  0.278  5004  0.0909   \n",
              "\n",
              "        CP    eta  \n",
              "0   0.0539  0.304  \n",
              "1   0.0543  0.374  \n",
              "2   0.0548  0.427  \n",
              "3   0.0540  0.473  \n",
              "4   0.0530  0.511  \n",
              "5   0.0504  0.570  \n",
              "6   0.0481  0.602  \n",
              "7   0.0451  0.625  \n",
              "8   0.0410  0.644  \n",
              "9   0.0372  0.655  \n",
              "10  0.0318  0.648  \n",
              "11  0.0265  0.632  \n",
              "12  0.0217  0.561  \n",
              "13  0.0162  0.424  \n",
              "14  0.0118  0.165  \n",
              "15  0.0523  0.264  \n",
              "16  0.0536  0.321  \n",
              "17  0.0538  0.375  \n",
              "18  0.0540  0.422  \n",
              "19  0.0542  0.466  "
            ],
            "text/html": [
              "\n",
              "  <div id=\"df-05126cf8-7c63-4241-89eb-53032f6e44db\" class=\"colab-df-container\">\n",
              "    <div>\n",
              "<style scoped>\n",
              "    .dataframe tbody tr th:only-of-type {\n",
              "        vertical-align: middle;\n",
              "    }\n",
              "\n",
              "    .dataframe tbody tr th {\n",
              "        vertical-align: top;\n",
              "    }\n",
              "\n",
              "    .dataframe thead th {\n",
              "        text-align: right;\n",
              "    }\n",
              "</style>\n",
              "<table border=\"1\" class=\"dataframe\">\n",
              "  <thead>\n",
              "    <tr style=\"text-align: right;\">\n",
              "      <th></th>\n",
              "      <th>PropName</th>\n",
              "      <th>BladeName</th>\n",
              "      <th>Family</th>\n",
              "      <th>B</th>\n",
              "      <th>D</th>\n",
              "      <th>P</th>\n",
              "      <th>J</th>\n",
              "      <th>N</th>\n",
              "      <th>CT</th>\n",
              "      <th>CP</th>\n",
              "      <th>eta</th>\n",
              "    </tr>\n",
              "  </thead>\n",
              "  <tbody>\n",
              "    <tr>\n",
              "      <th>0</th>\n",
              "      <td>ance 8.5x6.0 - 2</td>\n",
              "      <td>ance 8.5x6.0</td>\n",
              "      <td>ance</td>\n",
              "      <td>2</td>\n",
              "      <td>8.5</td>\n",
              "      <td>6.0</td>\n",
              "      <td>0.165</td>\n",
              "      <td>4000</td>\n",
              "      <td>0.0993</td>\n",
              "      <td>0.0539</td>\n",
              "      <td>0.304</td>\n",
              "    </tr>\n",
              "    <tr>\n",
              "      <th>1</th>\n",
              "      <td>ance 8.5x6.0 - 2</td>\n",
              "      <td>ance 8.5x6.0</td>\n",
              "      <td>ance</td>\n",
              "      <td>2</td>\n",
              "      <td>8.5</td>\n",
              "      <td>6.0</td>\n",
              "      <td>0.214</td>\n",
              "      <td>4000</td>\n",
              "      <td>0.0947</td>\n",
              "      <td>0.0543</td>\n",
              "      <td>0.374</td>\n",
              "    </tr>\n",
              "    <tr>\n",
              "      <th>2</th>\n",
              "      <td>ance 8.5x6.0 - 2</td>\n",
              "      <td>ance 8.5x6.0</td>\n",
              "      <td>ance</td>\n",
              "      <td>2</td>\n",
              "      <td>8.5</td>\n",
              "      <td>6.0</td>\n",
              "      <td>0.255</td>\n",
              "      <td>4000</td>\n",
              "      <td>0.0916</td>\n",
              "      <td>0.0548</td>\n",
              "      <td>0.427</td>\n",
              "    </tr>\n",
              "    <tr>\n",
              "      <th>3</th>\n",
              "      <td>ance 8.5x6.0 - 2</td>\n",
              "      <td>ance 8.5x6.0</td>\n",
              "      <td>ance</td>\n",
              "      <td>2</td>\n",
              "      <td>8.5</td>\n",
              "      <td>6.0</td>\n",
              "      <td>0.301</td>\n",
              "      <td>4000</td>\n",
              "      <td>0.0847</td>\n",
              "      <td>0.0540</td>\n",
              "      <td>0.473</td>\n",
              "    </tr>\n",
              "    <tr>\n",
              "      <th>4</th>\n",
              "      <td>ance 8.5x6.0 - 2</td>\n",
              "      <td>ance 8.5x6.0</td>\n",
              "      <td>ance</td>\n",
              "      <td>2</td>\n",
              "      <td>8.5</td>\n",
              "      <td>6.0</td>\n",
              "      <td>0.340</td>\n",
              "      <td>4000</td>\n",
              "      <td>0.0796</td>\n",
              "      <td>0.0530</td>\n",
              "      <td>0.511</td>\n",
              "    </tr>\n",
              "    <tr>\n",
              "      <th>5</th>\n",
              "      <td>ance 8.5x6.0 - 2</td>\n",
              "      <td>ance 8.5x6.0</td>\n",
              "      <td>ance</td>\n",
              "      <td>2</td>\n",
              "      <td>8.5</td>\n",
              "      <td>6.0</td>\n",
              "      <td>0.400</td>\n",
              "      <td>4000</td>\n",
              "      <td>0.0718</td>\n",
              "      <td>0.0504</td>\n",
              "      <td>0.570</td>\n",
              "    </tr>\n",
              "    <tr>\n",
              "      <th>6</th>\n",
              "      <td>ance 8.5x6.0 - 2</td>\n",
              "      <td>ance 8.5x6.0</td>\n",
              "      <td>ance</td>\n",
              "      <td>2</td>\n",
              "      <td>8.5</td>\n",
              "      <td>6.0</td>\n",
              "      <td>0.438</td>\n",
              "      <td>4000</td>\n",
              "      <td>0.0659</td>\n",
              "      <td>0.0481</td>\n",
              "      <td>0.602</td>\n",
              "    </tr>\n",
              "    <tr>\n",
              "      <th>7</th>\n",
              "      <td>ance 8.5x6.0 - 2</td>\n",
              "      <td>ance 8.5x6.0</td>\n",
              "      <td>ance</td>\n",
              "      <td>2</td>\n",
              "      <td>8.5</td>\n",
              "      <td>6.0</td>\n",
              "      <td>0.483</td>\n",
              "      <td>4000</td>\n",
              "      <td>0.0583</td>\n",
              "      <td>0.0451</td>\n",
              "      <td>0.625</td>\n",
              "    </tr>\n",
              "    <tr>\n",
              "      <th>8</th>\n",
              "      <td>ance 8.5x6.0 - 2</td>\n",
              "      <td>ance 8.5x6.0</td>\n",
              "      <td>ance</td>\n",
              "      <td>2</td>\n",
              "      <td>8.5</td>\n",
              "      <td>6.0</td>\n",
              "      <td>0.531</td>\n",
              "      <td>4000</td>\n",
              "      <td>0.0497</td>\n",
              "      <td>0.0410</td>\n",
              "      <td>0.644</td>\n",
              "    </tr>\n",
              "    <tr>\n",
              "      <th>9</th>\n",
              "      <td>ance 8.5x6.0 - 2</td>\n",
              "      <td>ance 8.5x6.0</td>\n",
              "      <td>ance</td>\n",
              "      <td>2</td>\n",
              "      <td>8.5</td>\n",
              "      <td>6.0</td>\n",
              "      <td>0.567</td>\n",
              "      <td>4000</td>\n",
              "      <td>0.0430</td>\n",
              "      <td>0.0372</td>\n",
              "      <td>0.655</td>\n",
              "    </tr>\n",
              "    <tr>\n",
              "      <th>10</th>\n",
              "      <td>ance 8.5x6.0 - 2</td>\n",
              "      <td>ance 8.5x6.0</td>\n",
              "      <td>ance</td>\n",
              "      <td>2</td>\n",
              "      <td>8.5</td>\n",
              "      <td>6.0</td>\n",
              "      <td>0.615</td>\n",
              "      <td>4000</td>\n",
              "      <td>0.0336</td>\n",
              "      <td>0.0318</td>\n",
              "      <td>0.648</td>\n",
              "    </tr>\n",
              "    <tr>\n",
              "      <th>11</th>\n",
              "      <td>ance 8.5x6.0 - 2</td>\n",
              "      <td>ance 8.5x6.0</td>\n",
              "      <td>ance</td>\n",
              "      <td>2</td>\n",
              "      <td>8.5</td>\n",
              "      <td>6.0</td>\n",
              "      <td>0.664</td>\n",
              "      <td>4000</td>\n",
              "      <td>0.0252</td>\n",
              "      <td>0.0265</td>\n",
              "      <td>0.632</td>\n",
              "    </tr>\n",
              "    <tr>\n",
              "      <th>12</th>\n",
              "      <td>ance 8.5x6.0 - 2</td>\n",
              "      <td>ance 8.5x6.0</td>\n",
              "      <td>ance</td>\n",
              "      <td>2</td>\n",
              "      <td>8.5</td>\n",
              "      <td>6.0</td>\n",
              "      <td>0.705</td>\n",
              "      <td>4000</td>\n",
              "      <td>0.0172</td>\n",
              "      <td>0.0217</td>\n",
              "      <td>0.561</td>\n",
              "    </tr>\n",
              "    <tr>\n",
              "      <th>13</th>\n",
              "      <td>ance 8.5x6.0 - 2</td>\n",
              "      <td>ance 8.5x6.0</td>\n",
              "      <td>ance</td>\n",
              "      <td>2</td>\n",
              "      <td>8.5</td>\n",
              "      <td>6.0</td>\n",
              "      <td>0.753</td>\n",
              "      <td>4000</td>\n",
              "      <td>0.0091</td>\n",
              "      <td>0.0162</td>\n",
              "      <td>0.424</td>\n",
              "    </tr>\n",
              "    <tr>\n",
              "      <th>14</th>\n",
              "      <td>ance 8.5x6.0 - 2</td>\n",
              "      <td>ance 8.5x6.0</td>\n",
              "      <td>ance</td>\n",
              "      <td>2</td>\n",
              "      <td>8.5</td>\n",
              "      <td>6.0</td>\n",
              "      <td>0.790</td>\n",
              "      <td>4000</td>\n",
              "      <td>0.0025</td>\n",
              "      <td>0.0118</td>\n",
              "      <td>0.165</td>\n",
              "    </tr>\n",
              "    <tr>\n",
              "      <th>15</th>\n",
              "      <td>ance 8.5x6.0 - 2</td>\n",
              "      <td>ance 8.5x6.0</td>\n",
              "      <td>ance</td>\n",
              "      <td>2</td>\n",
              "      <td>8.5</td>\n",
              "      <td>6.0</td>\n",
              "      <td>0.134</td>\n",
              "      <td>5004</td>\n",
              "      <td>0.1035</td>\n",
              "      <td>0.0523</td>\n",
              "      <td>0.264</td>\n",
              "    </tr>\n",
              "    <tr>\n",
              "      <th>16</th>\n",
              "      <td>ance 8.5x6.0 - 2</td>\n",
              "      <td>ance 8.5x6.0</td>\n",
              "      <td>ance</td>\n",
              "      <td>2</td>\n",
              "      <td>8.5</td>\n",
              "      <td>6.0</td>\n",
              "      <td>0.169</td>\n",
              "      <td>5004</td>\n",
              "      <td>0.1016</td>\n",
              "      <td>0.0536</td>\n",
              "      <td>0.321</td>\n",
              "    </tr>\n",
              "    <tr>\n",
              "      <th>17</th>\n",
              "      <td>ance 8.5x6.0 - 2</td>\n",
              "      <td>ance 8.5x6.0</td>\n",
              "      <td>ance</td>\n",
              "      <td>2</td>\n",
              "      <td>8.5</td>\n",
              "      <td>6.0</td>\n",
              "      <td>0.205</td>\n",
              "      <td>5004</td>\n",
              "      <td>0.0984</td>\n",
              "      <td>0.0538</td>\n",
              "      <td>0.375</td>\n",
              "    </tr>\n",
              "    <tr>\n",
              "      <th>18</th>\n",
              "      <td>ance 8.5x6.0 - 2</td>\n",
              "      <td>ance 8.5x6.0</td>\n",
              "      <td>ance</td>\n",
              "      <td>2</td>\n",
              "      <td>8.5</td>\n",
              "      <td>6.0</td>\n",
              "      <td>0.239</td>\n",
              "      <td>5004</td>\n",
              "      <td>0.0953</td>\n",
              "      <td>0.0540</td>\n",
              "      <td>0.422</td>\n",
              "    </tr>\n",
              "    <tr>\n",
              "      <th>19</th>\n",
              "      <td>ance 8.5x6.0 - 2</td>\n",
              "      <td>ance 8.5x6.0</td>\n",
              "      <td>ance</td>\n",
              "      <td>2</td>\n",
              "      <td>8.5</td>\n",
              "      <td>6.0</td>\n",
              "      <td>0.278</td>\n",
              "      <td>5004</td>\n",
              "      <td>0.0909</td>\n",
              "      <td>0.0542</td>\n",
              "      <td>0.466</td>\n",
              "    </tr>\n",
              "  </tbody>\n",
              "</table>\n",
              "</div>\n",
              "    <div class=\"colab-df-buttons\">\n",
              "\n",
              "  <div class=\"colab-df-container\">\n",
              "    <button class=\"colab-df-convert\" onclick=\"convertToInteractive('df-05126cf8-7c63-4241-89eb-53032f6e44db')\"\n",
              "            title=\"Convert this dataframe to an interactive table.\"\n",
              "            style=\"display:none;\">\n",
              "\n",
              "  <svg xmlns=\"http://www.w3.org/2000/svg\" height=\"24px\" viewBox=\"0 -960 960 960\">\n",
              "    <path d=\"M120-120v-720h720v720H120Zm60-500h600v-160H180v160Zm220 220h160v-160H400v160Zm0 220h160v-160H400v160ZM180-400h160v-160H180v160Zm440 0h160v-160H620v160ZM180-180h160v-160H180v160Zm440 0h160v-160H620v160Z\"/>\n",
              "  </svg>\n",
              "    </button>\n",
              "\n",
              "  <style>\n",
              "    .colab-df-container {\n",
              "      display:flex;\n",
              "      gap: 12px;\n",
              "    }\n",
              "\n",
              "    .colab-df-convert {\n",
              "      background-color: #E8F0FE;\n",
              "      border: none;\n",
              "      border-radius: 50%;\n",
              "      cursor: pointer;\n",
              "      display: none;\n",
              "      fill: #1967D2;\n",
              "      height: 32px;\n",
              "      padding: 0 0 0 0;\n",
              "      width: 32px;\n",
              "    }\n",
              "\n",
              "    .colab-df-convert:hover {\n",
              "      background-color: #E2EBFA;\n",
              "      box-shadow: 0px 1px 2px rgba(60, 64, 67, 0.3), 0px 1px 3px 1px rgba(60, 64, 67, 0.15);\n",
              "      fill: #174EA6;\n",
              "    }\n",
              "\n",
              "    .colab-df-buttons div {\n",
              "      margin-bottom: 4px;\n",
              "    }\n",
              "\n",
              "    [theme=dark] .colab-df-convert {\n",
              "      background-color: #3B4455;\n",
              "      fill: #D2E3FC;\n",
              "    }\n",
              "\n",
              "    [theme=dark] .colab-df-convert:hover {\n",
              "      background-color: #434B5C;\n",
              "      box-shadow: 0px 1px 3px 1px rgba(0, 0, 0, 0.15);\n",
              "      filter: drop-shadow(0px 1px 2px rgba(0, 0, 0, 0.3));\n",
              "      fill: #FFFFFF;\n",
              "    }\n",
              "  </style>\n",
              "\n",
              "    <script>\n",
              "      const buttonEl =\n",
              "        document.querySelector('#df-05126cf8-7c63-4241-89eb-53032f6e44db button.colab-df-convert');\n",
              "      buttonEl.style.display =\n",
              "        google.colab.kernel.accessAllowed ? 'block' : 'none';\n",
              "\n",
              "      async function convertToInteractive(key) {\n",
              "        const element = document.querySelector('#df-05126cf8-7c63-4241-89eb-53032f6e44db');\n",
              "        const dataTable =\n",
              "          await google.colab.kernel.invokeFunction('convertToInteractive',\n",
              "                                                    [key], {});\n",
              "        if (!dataTable) return;\n",
              "\n",
              "        const docLinkHtml = 'Like what you see? Visit the ' +\n",
              "          '<a target=\"_blank\" href=https://colab.research.google.com/notebooks/data_table.ipynb>data table notebook</a>'\n",
              "          + ' to learn more about interactive tables.';\n",
              "        element.innerHTML = '';\n",
              "        dataTable['output_type'] = 'display_data';\n",
              "        await google.colab.output.renderOutput(dataTable, element);\n",
              "        const docLink = document.createElement('div');\n",
              "        docLink.innerHTML = docLinkHtml;\n",
              "        element.appendChild(docLink);\n",
              "      }\n",
              "    </script>\n",
              "  </div>\n",
              "\n",
              "\n",
              "<div id=\"df-18f73c57-a7c2-43d1-917e-f9b08a0e010c\">\n",
              "  <button class=\"colab-df-quickchart\" onclick=\"quickchart('df-18f73c57-a7c2-43d1-917e-f9b08a0e010c')\"\n",
              "            title=\"Suggest charts\"\n",
              "            style=\"display:none;\">\n",
              "\n",
              "<svg xmlns=\"http://www.w3.org/2000/svg\" height=\"24px\"viewBox=\"0 0 24 24\"\n",
              "     width=\"24px\">\n",
              "    <g>\n",
              "        <path d=\"M19 3H5c-1.1 0-2 .9-2 2v14c0 1.1.9 2 2 2h14c1.1 0 2-.9 2-2V5c0-1.1-.9-2-2-2zM9 17H7v-7h2v7zm4 0h-2V7h2v10zm4 0h-2v-4h2v4z\"/>\n",
              "    </g>\n",
              "</svg>\n",
              "  </button>\n",
              "\n",
              "<style>\n",
              "  .colab-df-quickchart {\n",
              "      --bg-color: #E8F0FE;\n",
              "      --fill-color: #1967D2;\n",
              "      --hover-bg-color: #E2EBFA;\n",
              "      --hover-fill-color: #174EA6;\n",
              "      --disabled-fill-color: #AAA;\n",
              "      --disabled-bg-color: #DDD;\n",
              "  }\n",
              "\n",
              "  [theme=dark] .colab-df-quickchart {\n",
              "      --bg-color: #3B4455;\n",
              "      --fill-color: #D2E3FC;\n",
              "      --hover-bg-color: #434B5C;\n",
              "      --hover-fill-color: #FFFFFF;\n",
              "      --disabled-bg-color: #3B4455;\n",
              "      --disabled-fill-color: #666;\n",
              "  }\n",
              "\n",
              "  .colab-df-quickchart {\n",
              "    background-color: var(--bg-color);\n",
              "    border: none;\n",
              "    border-radius: 50%;\n",
              "    cursor: pointer;\n",
              "    display: none;\n",
              "    fill: var(--fill-color);\n",
              "    height: 32px;\n",
              "    padding: 0;\n",
              "    width: 32px;\n",
              "  }\n",
              "\n",
              "  .colab-df-quickchart:hover {\n",
              "    background-color: var(--hover-bg-color);\n",
              "    box-shadow: 0 1px 2px rgba(60, 64, 67, 0.3), 0 1px 3px 1px rgba(60, 64, 67, 0.15);\n",
              "    fill: var(--button-hover-fill-color);\n",
              "  }\n",
              "\n",
              "  .colab-df-quickchart-complete:disabled,\n",
              "  .colab-df-quickchart-complete:disabled:hover {\n",
              "    background-color: var(--disabled-bg-color);\n",
              "    fill: var(--disabled-fill-color);\n",
              "    box-shadow: none;\n",
              "  }\n",
              "\n",
              "  .colab-df-spinner {\n",
              "    border: 2px solid var(--fill-color);\n",
              "    border-color: transparent;\n",
              "    border-bottom-color: var(--fill-color);\n",
              "    animation:\n",
              "      spin 1s steps(1) infinite;\n",
              "  }\n",
              "\n",
              "  @keyframes spin {\n",
              "    0% {\n",
              "      border-color: transparent;\n",
              "      border-bottom-color: var(--fill-color);\n",
              "      border-left-color: var(--fill-color);\n",
              "    }\n",
              "    20% {\n",
              "      border-color: transparent;\n",
              "      border-left-color: var(--fill-color);\n",
              "      border-top-color: var(--fill-color);\n",
              "    }\n",
              "    30% {\n",
              "      border-color: transparent;\n",
              "      border-left-color: var(--fill-color);\n",
              "      border-top-color: var(--fill-color);\n",
              "      border-right-color: var(--fill-color);\n",
              "    }\n",
              "    40% {\n",
              "      border-color: transparent;\n",
              "      border-right-color: var(--fill-color);\n",
              "      border-top-color: var(--fill-color);\n",
              "    }\n",
              "    60% {\n",
              "      border-color: transparent;\n",
              "      border-right-color: var(--fill-color);\n",
              "    }\n",
              "    80% {\n",
              "      border-color: transparent;\n",
              "      border-right-color: var(--fill-color);\n",
              "      border-bottom-color: var(--fill-color);\n",
              "    }\n",
              "    90% {\n",
              "      border-color: transparent;\n",
              "      border-bottom-color: var(--fill-color);\n",
              "    }\n",
              "  }\n",
              "</style>\n",
              "\n",
              "  <script>\n",
              "    async function quickchart(key) {\n",
              "      const quickchartButtonEl =\n",
              "        document.querySelector('#' + key + ' button');\n",
              "      quickchartButtonEl.disabled = true;  // To prevent multiple clicks.\n",
              "      quickchartButtonEl.classList.add('colab-df-spinner');\n",
              "      try {\n",
              "        const charts = await google.colab.kernel.invokeFunction(\n",
              "            'suggestCharts', [key], {});\n",
              "      } catch (error) {\n",
              "        console.error('Error during call to suggestCharts:', error);\n",
              "      }\n",
              "      quickchartButtonEl.classList.remove('colab-df-spinner');\n",
              "      quickchartButtonEl.classList.add('colab-df-quickchart-complete');\n",
              "    }\n",
              "    (() => {\n",
              "      let quickchartButtonEl =\n",
              "        document.querySelector('#df-18f73c57-a7c2-43d1-917e-f9b08a0e010c button');\n",
              "      quickchartButtonEl.style.display =\n",
              "        google.colab.kernel.accessAllowed ? 'block' : 'none';\n",
              "    })();\n",
              "  </script>\n",
              "</div>\n",
              "    </div>\n",
              "  </div>\n"
            ]
          },
          "metadata": {},
          "execution_count": 95
        }
      ]
    },
    {
      "cell_type": "markdown",
      "source": [
        "Clean and organize data"
      ],
      "metadata": {
        "id": "XHNtP8djkaXU"
      }
    },
    {
      "cell_type": "code",
      "source": [
        "#extract solely values and concatenate all matrices into a single matrix\n",
        "dataval1 = data1.iloc[:14231,3:11].values\n",
        "dataval2 = data2.iloc[:3910,3:11].values\n",
        "dataval3 = data3.iloc[:5451,3:11].values\n",
        "#concat arrays together and separate input and output values\n",
        "data = np.concatenate((dataval1,dataval2,dataval3))\n",
        "geometry = data[:,0:5]\n",
        "output = data[:,5:9]\n",
        "\n",
        "#concat all dataframes\n",
        "dataval = pd.concat([data1, data2, data3], ignore_index=True, axis=0)\n",
        "\n",
        "## TRYING TO FIND AVERAGES OF EFFICIENCY BY ACCUMLUATING DATA\n",
        "## OF MATCHING PROPELLER GEOMETRY AND AVERAGING THEM\n",
        "\n",
        "#preallocate arrays for eta and prop geometries\n",
        "size = dataval.shape[0]\n",
        "etas = np.zeros((size,size))\n",
        "sizes = np.zeros((size, 3))\n",
        "\n",
        "#loop through each propeller for comparison\n",
        "i = 0\n",
        "while i < size:\n",
        "  #store geometry values for comparison\n",
        "  blades = dataval.iloc[i,3]\n",
        "  diameter = dataval.iloc[i,4]\n",
        "  pitch = dataval.iloc[i,5]\n",
        "  sizes[i,0] = blades\n",
        "  sizes[i,1] = diameter\n",
        "  sizes[i,2] = pitch\n",
        "  etas[i,0] = dataval.iloc[i,10]\n",
        "  k = i + 1\n",
        "  #loop through the rest of the data\n",
        "  while k < size:\n",
        "    #if geometries match comparison values\n",
        "    if dataval.iloc[k,3] == blades and dataval.iloc[k,4] == diameter and dataval.iloc[k,5] == pitch:\n",
        "      #input eta value into matrix row for matching propeller sizes\n",
        "      etas[i,k] = dataval.iloc[k,10]\n",
        "      #drop dataframe row\n",
        "      dataval.drop(dataval.index[k], inplace=True)\n",
        "      #alter loop values\n",
        "      k = k - 1\n",
        "      size = size - 1\n",
        "    #alter loop values\n",
        "    k = k + 1\n",
        "  i = i + 1\n"
      ],
      "metadata": {
        "id": "SkQ8R_x8kb0d"
      },
      "execution_count": null,
      "outputs": []
    },
    {
      "cell_type": "markdown",
      "source": [
        "Heatmap of the input data (B = # of blades, D = diameter, P = pitch, J = advanced ratio, N = RPM)"
      ],
      "metadata": {
        "id": "Fc5mGieyscHE"
      }
    },
    {
      "cell_type": "code",
      "source": [
        "heat = pd.concat([data1.iloc[:14231,3:8], data2.iloc[:3910,3:8], data3.iloc[:5451,3:8]], ignore_index=True, axis=0)\n",
        "plt.figure(figsize=(11,6))\n",
        "p=sns.heatmap(heat.corr(), annot=True,cmap ='RdYlGn')\n",
        "plt.figure()"
      ],
      "metadata": {
        "id": "H_EsWU2Hsf7P",
        "colab": {
          "base_uri": "https://localhost:8080/",
          "height": 563
        },
        "outputId": "b860e7a3-93e7-41fe-e539-f3f8e77aa882"
      },
      "execution_count": null,
      "outputs": [
        {
          "output_type": "execute_result",
          "data": {
            "text/plain": [
              "<Figure size 640x480 with 0 Axes>"
            ]
          },
          "metadata": {},
          "execution_count": 97
        },
        {
          "output_type": "display_data",
          "data": {
            "text/plain": [
              "<Figure size 1100x600 with 2 Axes>"
            ],
            "image/png": "[encoded data removed]"
          },
          "metadata": {}
        },
        {
          "output_type": "display_data",
          "data": {
            "text/plain": [
              "<Figure size 640x480 with 0 Axes>"
            ]
          },
          "metadata": {}
        }
      ]
    },
    {
      "cell_type": "code",
      "source": [
        "from google.colab import drive\n",
        "drive.mount('/content/drive')"
      ],
      "metadata": {
        "id": "gkSJyAbdIKmE",
        "outputId": "a875c7d7-580b-4aea-86c9-f49dd0a51d12",
        "colab": {
          "base_uri": "https://localhost:8080/"
        }
      },
      "execution_count": null,
      "outputs": [
        {
          "output_type": "stream",
          "name": "stdout",
          "text": [
            "Mounted at /content/drive\n"
          ]
        }
      ]
    },
    {
      "cell_type": "markdown",
      "source": [
        "Determine an efficiency classifier"
      ],
      "metadata": {
        "id": "O9fxNvNyjkpw"
      }
    },
    {
      "cell_type": "code",
      "source": [
        "#remove all eta columns of all 0\n",
        "etas = etas[:, ~np.all(etas == 0, axis=0)]\n",
        "#remove all eta rows of all 0\n",
        "etas = etas[~np.all(etas == 0, axis=1)]\n",
        "#remove all geometry rows of all 0\n",
        "sizes = sizes[~np.all(sizes == 0, axis=1)]\n",
        "\n",
        "#pull maximum efficiency from each propeller geometry\n",
        "max_eta = np.max(etas, axis = 1)\n",
        "av_eta = np.average(max_eta)\n",
        "\n",
        "#average of all maximum etas PERHAPS A BASELINE TO CLASSIFY PROPELLERS AS EFFICIENT OR NOT?!\n",
        "print(\"Average efficiency = \",av_eta)"
      ],
      "metadata": {
        "id": "HzSr8Zc-jvX_",
        "colab": {
          "base_uri": "https://localhost:8080/"
        },
        "outputId": "2ecc2de9-d2d1-4c32-d9b4-48a8e616223b"
      },
      "execution_count": null,
      "outputs": [
        {
          "output_type": "stream",
          "name": "stdout",
          "text": [
            "Average efficiency =  0.36262544354838705\n"
          ]
        }
      ]
    },
    {
      "cell_type": "markdown",
      "source": [
        "Split data"
      ],
      "metadata": {
        "id": "PayG9MGmjgfu"
      }
    },
    {
      "cell_type": "code",
      "source": [
        "#split data into training and test set, with %20 for testing\n",
        "\n",
        "geo_train, geo_test, output_train, output_test = train_test_split(geometry, output, test_size = .2)\n",
        "train_samples=len(geo_train)\n",
        "test_samples=len(geo_test)\n",
        "\n",
        "#individualized output variables\n",
        "thrust_train = output_train[:,0]\n",
        "thrust_test = output_test[:,0]\n",
        "\n",
        "power_train = output_train[:,1]\n",
        "power_test = output_test[:,1]\n",
        "\n",
        "eff_train = output_train[:,2]\n",
        "eff_test = output_test[:,2]"
      ],
      "metadata": {
        "id": "nnXLk20vjhis"
      },
      "execution_count": null,
      "outputs": []
    },
    {
      "cell_type": "markdown",
      "source": [
        "Linear Regression Model"
      ],
      "metadata": {
        "id": "wHWukKTw9o1E"
      }
    },
    {
      "cell_type": "code",
      "source": [
        "#create linear regression instance\n",
        "lin_reg = LinearRegression()\n",
        "\n",
        "## MULTIVARIATE OUTPUT\n",
        "lin_reg.fit(geo_train, output_train)\n",
        "# get output prediction\n",
        "output_hat=lin_reg.predict(geo_train)\n",
        "\n",
        "# determine r2 score\n",
        "print(\"Total R2 score = \" + str(r2_score(output_train, output_hat)))\n",
        "\n",
        "# get predicted values from test data\n",
        "output_hat_val= lin_reg.predict(geo_test)\n",
        "\n",
        "# determine cost from mean square cost function\n",
        "cost_train=np.mean((output_train-output_hat)**2)/train_samples\n",
        "print(\"training loss: \",cost_train)\n",
        "\n",
        "cost_val=np.mean((output_test-output_hat_val)**2)/test_samples\n",
        "print(\"Validation Loss:\",cost_val)\n",
        "\n",
        "\n",
        "##INDIVIDUAL THRUST\n",
        "lin_reg.fit(geo_train, thrust_train)\n",
        "# get output prediction\n",
        "thrust_hat=lin_reg.predict(geo_train)\n",
        "\n",
        "# determine r2 score\n",
        "print(\"\\nThrust R2 score = \" + str(r2_score(thrust_train, thrust_hat)))\n",
        "\n",
        "# get predicted values from test data\n",
        "thrust_hat_val= lin_reg.predict(geo_test)\n",
        "\n",
        "# determine cost from mean square cost function\n",
        "cost_train=np.mean((thrust_train-thrust_hat)**2)/train_samples\n",
        "print(\"training loss: \",cost_train)\n",
        "\n",
        "cost_val=np.mean((thrust_test-thrust_hat_val)**2)/test_samples\n",
        "print(\"Validation Loss:\",cost_val)\n",
        "\n",
        "\n",
        "##INDIVIDUAL POWER\n",
        "lin_reg.fit(geo_train, power_train)\n",
        "# get output prediction\n",
        "power_hat=lin_reg.predict(geo_train)\n",
        "\n",
        "# determine r2 score\n",
        "print(\"\\nPower R2 score = \" + str(r2_score(power_train, power_hat)))\n",
        "\n",
        "# get predicted values from test data\n",
        "power_hat_val= lin_reg.predict(geo_test)\n",
        "\n",
        "# determine cost from mean square cost function\n",
        "cost_train=np.mean((power_train-power_hat)**2)/train_samples\n",
        "print(\"training loss: \",cost_train)\n",
        "\n",
        "cost_val=np.mean((power_test-power_hat_val)**2)/test_samples\n",
        "print(\"Validation Loss:\",cost_val)\n",
        "\n",
        "\n",
        "##INDIVIDUAL EFFICIENCY\n",
        "lin_reg.fit(geo_train, eff_train)\n",
        "# get output prediction\n",
        "eff_hat=lin_reg.predict(geo_train)\n",
        "\n",
        "# determine r2 score\n",
        "print(\"\\nEfficiency R2 score = \" + str(r2_score(eff_train, eff_hat)))\n",
        "\n",
        "# get predicted values from test data\n",
        "eff_hat_val= lin_reg.predict(geo_test)\n",
        "\n",
        "# determine cost from mean square cost function\n",
        "cost_train=np.mean((eff_train-eff_hat)**2)/train_samples\n",
        "print(\"training loss: \",cost_train)\n",
        "\n",
        "cost_val=np.mean((eff_test-eff_hat_val)**2)/test_samples\n",
        "print(\"Validation Loss:\",cost_val)"
      ],
      "metadata": {
        "id": "Ye_zZfHb9rZz",
        "colab": {
          "base_uri": "https://localhost:8080/"
        },
        "outputId": "a9cd2e4f-2f1b-435c-e56e-18ea495d8902"
      },
      "execution_count": null,
      "outputs": [
        {
          "output_type": "stream",
          "name": "stdout",
          "text": [
            "Total R2 score = 0.4515410141837835\n",
            "training loss:  5.160435803714841e-06\n",
            "Validation Loss: 1.8034704018685333e-05\n",
            "\n",
            "Thrust R2 score = 0.7208354795620981\n",
            "training loss:  2.543627159675203e-08\n",
            "Validation Loss: 1.0436497547716235e-07\n",
            "\n",
            "Power R2 score = 0.5231280622912496\n",
            "training loss:  1.6432532021031436e-08\n",
            "Validation Loss: 6.658773091848398e-08\n",
            "\n",
            "Efficiency R2 score = 0.11065950069801045\n",
            "training loss:  1.5439438607526735e-05\n",
            "Validation Loss: 5.393315934966036e-05\n"
          ]
        }
      ]
    },
    {
      "cell_type": "markdown",
      "source": [
        "Polynomial Regression Model"
      ],
      "metadata": {
        "id": "yT8rO3RTwG9S"
      }
    },
    {
      "cell_type": "code",
      "source": [
        "## MULTIVARIATE OUTPUT\n",
        "#create polynomial feature of 3rd degree\n",
        "poly_reg = PolynomialFeatures(degree = 3)\n",
        "# get constants for each degree\n",
        "geo_poly = poly_reg.fit_transform(geo_train)\n",
        "#create multivariate linear regression and fit data\n",
        "lin_reg_2 = LinearRegression()\n",
        "lin_reg_2.fit(geo_poly, output_train)\n",
        "# get output prediction\n",
        "output_hat=lin_reg_2.predict(geo_poly)\n",
        "\n",
        "# determine r2 score\n",
        "print(\"Multi-output R2 score = \" + str(r2_score(output_train, output_hat)))\n",
        "\n",
        "# get predicted values from test data\n",
        "geo_test_poly=poly_reg.fit_transform(geo_test)\n",
        "output_hat_val= lin_reg_2.predict(geo_test_poly)\n",
        "\n",
        "# determine cost from mean square cost function\n",
        "cost_train=np.mean((output_train-output_hat)**2)/train_samples\n",
        "print(\"training loss: \",cost_train)\n",
        "\n",
        "cost_val=np.mean((output_test-output_hat_val)**2)/test_samples\n",
        "print(\"Validation Loss: \",cost_val)\n",
        "\n",
        "\n",
        "## THRUST OUTPUT\n",
        "#create polynomial feature of 3rd degree\n",
        "poly_reg = PolynomialFeatures(degree = 3)\n",
        "# get constants for each degree\n",
        "geo_poly = poly_reg.fit_transform(geo_train)\n",
        "#create multivariate linear regression and fit data\n",
        "lin_reg_2 = LinearRegression()\n",
        "lin_reg_2.fit(geo_poly, thrust_train)\n",
        "# get output prediction\n",
        "thrust_hat=lin_reg_2.predict(geo_poly)\n",
        "\n",
        "# determine r2 score\n",
        "print(\"\\nThrust R2 score = \" + str(r2_score(thrust_train, thrust_hat)))\n",
        "\n",
        "# get predicted values from test data\n",
        "geo_test_poly=poly_reg.fit_transform(geo_test)\n",
        "thrust_hat_val= lin_reg_2.predict(geo_test_poly)\n",
        "\n",
        "# determine cost from mean square cost function\n",
        "cost_train=np.mean((thrust_train-thrust_hat)**2)/train_samples\n",
        "print(\"training loss: \",cost_train)\n",
        "\n",
        "cost_val=np.mean((thrust_test-thrust_hat_val)**2)/test_samples\n",
        "print(\"Validation Loss: \",cost_val)\n",
        "\n",
        "\n",
        "\n",
        "## POWER OUTPUT\n",
        "#create polynomial feature of 3rd degree\n",
        "poly_reg = PolynomialFeatures(degree = 3)\n",
        "# get constants for each degree\n",
        "geo_poly = poly_reg.fit_transform(geo_train)\n",
        "#create multivariate linear regression and fit data\n",
        "lin_reg_2 = LinearRegression()\n",
        "lin_reg_2.fit(geo_poly, power_train)\n",
        "# get output prediction\n",
        "power_hat=lin_reg_2.predict(geo_poly)\n",
        "\n",
        "# determine r2 score\n",
        "print(\"\\nPower R2 score = \" + str(r2_score(power_train, power_hat)))\n",
        "\n",
        "# get predicted values from test data\n",
        "geo_test_poly=poly_reg.fit_transform(geo_test)\n",
        "power_hat_val= lin_reg_2.predict(geo_test_poly)\n",
        "\n",
        "# determine cost from mean square cost function\n",
        "cost_train=np.mean((power_train-power_hat)**2)/train_samples\n",
        "print(\"training loss: \",cost_train)\n",
        "\n",
        "cost_val=np.mean((power_test-power_hat_val)**2)/test_samples\n",
        "print(\"Validation Loss: \",cost_val)\n",
        "\n",
        "\n",
        "## EFFICIENCY OUTPUT\n",
        "#create polynomial feature of 3rd degree\n",
        "poly_reg = PolynomialFeatures(degree = 3)\n",
        "# get constants for each degree\n",
        "geo_poly = poly_reg.fit_transform(geo_train)\n",
        "#create multivariate linear regression and fit data\n",
        "lin_reg_2 = LinearRegression()\n",
        "lin_reg_2.fit(geo_poly, eff_train)\n",
        "# get output prediction\n",
        "eff_hat=lin_reg_2.predict(geo_poly)\n",
        "\n",
        "# determine r2 score\n",
        "print(\"\\nEfficiency R2 score = \" + str(r2_score(eff_train, eff_hat)))\n",
        "\n",
        "# get predicted values from test data\n",
        "geo_test_poly=poly_reg.fit_transform(geo_test)\n",
        "eff_hat_val= lin_reg_2.predict(geo_test_poly)\n",
        "\n",
        "# determine cost from mean square cost function\n",
        "cost_train=np.mean((eff_train-eff_hat)**2)/train_samples\n",
        "print(\"training loss: \",cost_train)\n",
        "\n",
        "cost_val=np.mean((eff_test-eff_hat_val)**2)/test_samples\n",
        "print(\"Validation Loss: \",cost_val,\"\\n\")\n"
      ],
      "metadata": {
        "id": "t1QVXDiwywCk",
        "colab": {
          "base_uri": "https://localhost:8080/"
        },
        "outputId": "fa315e6b-22a9-491e-b3c5-3fb5a6bb2b11"
      },
      "execution_count": null,
      "outputs": [
        {
          "output_type": "stream",
          "name": "stdout",
          "text": [
            "Multi-output R2 score = 0.7137802043136675\n",
            "training loss:  3.0737651507409735e-06\n",
            "Validation Loss:  1.1264187138527074e-05\n",
            "\n",
            "Thrust R2 score = 0.8766229247804018\n",
            "training loss:  1.1241588971176895e-08\n",
            "Validation Loss:  4.597521466050123e-08\n",
            "\n",
            "Power R2 score = 0.7948267526005243\n",
            "training loss:  7.07006575801079e-09\n",
            "Validation Loss:  2.8630263824126586e-08\n",
            "\n",
            "Efficiency R2 score = 0.4698909454213982\n",
            "training loss:  9.202983795165227e-06\n",
            "Validation Loss:  3.371798401138622e-05 \n",
            "\n"
          ]
        }
      ]
    },
    {
      "cell_type": "markdown",
      "source": [
        "Logistic Regression Model for Efficiency"
      ],
      "metadata": {
        "id": "Y5HksAH8ywzd"
      }
    },
    {
      "cell_type": "code",
      "source": [
        "#create logistic regression instance\n",
        "log_reg = LogisticRegression(penalty=\"l2\", C=1, fit_intercept=True, max_iter=1000)\n",
        "\n",
        "#transform efficiency values into discrete 0(not efficient) and 1(efficient) values\n",
        "dataval = pd.concat([data1.iloc[:14231,3:11], data2.iloc[:3910,3:11], data3.iloc[:5451,3:11]], ignore_index=True, axis=0)\n",
        "dataval.loc[dataval.eta <= av_eta, \"eta\"] = 0\n",
        "dataval.loc[dataval.eta > av_eta, \"eta\"] = 1\n",
        "\n",
        "#visualize efficiencies for bias analysis\n",
        "plt.xlabel(\"Efficiency (0=inefficient, 1=efficient)\")\n",
        "plt.ylabel(\"Frequency\")\n",
        "freq, bins, patches = plt.hist(dataval['eta'], color='steelblue', bins=15,\n",
        "                                    edgecolor='black', linewidth=1)\n",
        "print(\"The data is biased towards efficiency predictions due to the much higher number of efficient classifications\")\n",
        "plt.figure()\n",
        "\n",
        "#separate output variable\n",
        "y = dataval.iloc[:,7].values\n",
        "\n",
        "#train model\n",
        "geo_train, geo_test, y_train, y_test = train_test_split(geometry, y, test_size = .2)\n",
        "\n",
        "#train and predict model\n",
        "log_reg.fit(geo_train, y_train)\n",
        "eta_hat = log_reg.predict(geo_test)\n",
        "\n",
        "#select value to test model\n",
        "t=geo_test[0]\n",
        "#print out prediction\n",
        "print(\"Predicted Class: \",log_reg.predict(t.reshape(1,-1)))\n",
        "print(\"True Class: \",y_test[0])\n",
        "\n",
        "# evaluate model accuracy\n",
        "print(\"Efficiency Accuracy: \", accuracy_score(y_test, eta_hat))\n",
        "\n",
        "#confusion matrix\n",
        "conf_mat = confusion_matrix(y_test, eta_hat)\n",
        "sns.heatmap(conf_mat, annot=True, fmt='d')\n",
        "plt.xlabel('Predicted')\n",
        "plt.ylabel('Actual')\n",
        "plt.show()\n",
        "print(classification_report(y_test, eta_hat))"
      ],
      "metadata": {
        "id": "9Y3d49GHyygW",
        "colab": {
          "base_uri": "https://localhost:8080/",
          "height": 1000
        },
        "outputId": "a24c4d76-1959-4dcd-ce43-012af6a739d9"
      },
      "execution_count": null,
      "outputs": [
        {
          "output_type": "stream",
          "name": "stdout",
          "text": [
            "The data is biased towards efficiency predictions due to the much higher number of efficient classifications\n",
            "Predicted Class:  [1.]\n",
            "True Class:  0.0\n",
            "Efficiency Accuracy:  0.7128628946810766\n"
          ]
        },
        {
          "output_type": "display_data",
          "data": {
            "text/plain": [
              "<Figure size 640x480 with 1 Axes>"
            ],
            "image/png": "[encoded data removed]"
          },
          "metadata": {}
        },
        {
          "output_type": "display_data",
          "data": {
            "text/plain": [
              "<Figure size 640x480 with 2 Axes>"
            ],
            "image/png": "[encoded data removed]"
          },
          "metadata": {}
        },
        {
          "output_type": "stream",
          "name": "stdout",
          "text": [
            "              precision    recall  f1-score   support\n",
            "\n",
            "         0.0       0.72      0.04      0.08      1391\n",
            "         1.0       0.71      0.99      0.83      3328\n",
            "\n",
            "    accuracy                           0.71      4719\n",
            "   macro avg       0.72      0.52      0.45      4719\n",
            "weighted avg       0.72      0.71      0.61      4719\n",
            "\n"
          ]
        }
      ]
    },
    {
      "cell_type": "markdown",
      "source": [
        "Naves Bayes Predictive Model"
      ],
      "metadata": {
        "id": "WmoTNbjg3Ebo"
      }
    },
    {
      "cell_type": "code",
      "source": [
        "#create an instance of MultinomialNB class\n",
        "model=MultinomialNB()\n",
        "\n",
        "#fit the training data for efficiency\n",
        "model.fit(geo_train, y_train)\n",
        "\n",
        "#get the predicted labels for test data\n",
        "eff_hat = model.predict(geo_test)\n",
        "\n",
        "#select value to test model\n",
        "t=geo_test[0]\n",
        "#print out prediction\n",
        "print(\"Predicted Class: \",model.predict(t.reshape(1,-1)))\n",
        "print(\"True Class: \",y_test[0])\n",
        "\n",
        "# evaluate model accuracy\n",
        "print(\"Efficiency Accuracy: \", accuracy_score(y_test, eff_hat))\n",
        "\n",
        "#confusion matrix\n",
        "conf_mat = confusion_matrix(y_test, eff_hat)\n",
        "sns.heatmap(conf_mat, annot=True, fmt='d')\n",
        "plt.xlabel('Predicted')\n",
        "plt.ylabel('Actual')\n",
        "plt.show()\n",
        "print(classification_report(y_test, eff_hat))"
      ],
      "metadata": {
        "id": "54lenb99y15M",
        "colab": {
          "base_uri": "https://localhost:8080/",
          "height": 657
        },
        "outputId": "f340e654-007b-4974-88a3-e466a1c4a5f8"
      },
      "execution_count": null,
      "outputs": [
        {
          "output_type": "stream",
          "name": "stdout",
          "text": [
            "Predicted Class:  [0.]\n",
            "True Class:  1.0\n",
            "Efficiency Accuracy:  0.6696333969061242\n"
          ]
        },
        {
          "output_type": "display_data",
          "data": {
            "text/plain": [
              "<Figure size 640x480 with 2 Axes>"
            ],
            "image/png": "[encoded data removed]"
          },
          "metadata": {}
        },
        {
          "output_type": "stream",
          "name": "stdout",
          "text": [
            "              precision    recall  f1-score   support\n",
            "\n",
            "         0.0       0.38      0.25      0.30      1349\n",
            "         1.0       0.74      0.84      0.78      3370\n",
            "\n",
            "    accuracy                           0.67      4719\n",
            "   macro avg       0.56      0.54      0.54      4719\n",
            "weighted avg       0.63      0.67      0.65      4719\n",
            "\n"
          ]
        }
      ]
    },
    {
      "cell_type": "markdown",
      "source": [
        "K Nearest Neighbors Model"
      ],
      "metadata": {
        "id": "9rg6pbIRKscN"
      }
    },
    {
      "cell_type": "code",
      "source": [
        "#standardize inputs\n",
        "geometrys_std = (geometry-geometry.mean())/(geometry.std())\n",
        "\n",
        "#split into train and test data\n",
        "X_train,X_test,y_train,y_test = train_test_split(geometrys_std,y,test_size=.2,random_state=42)\n",
        "\n",
        "test_scores = []\n",
        "train_scores = []\n",
        "\n",
        "#run this for loop to find the best k value\n",
        "for i in range(1,15):\n",
        "    #for the current loop assign k=i\n",
        "    knn = KNeighborsClassifier(i)\n",
        "    #the training data\n",
        "    knn.fit(X_train,y_train)\n",
        "    #predict the class label for the training data\n",
        "    pred_y_train=knn.predict(X_train)\n",
        "    #get the training accuracy\n",
        "    train_accuracy=accuracy_score(pred_y_train,y_train)\n",
        "    #append the training accuracy at a particular k value to the list.\n",
        "    train_scores.append(train_accuracy)\n",
        "\n",
        "    #predict the class label for test data\n",
        "    pred_y_test=knn.predict(X_test)\n",
        "    #get the test accuracy\n",
        "    test_accuracy=accuracy_score(pred_y_test,y_test)\n",
        "    #append the test accuracy at a particular k value to the list.\n",
        "    test_scores.append(test_accuracy)\n",
        "\n",
        "    plt.figure(figsize=(12,5))\n",
        "\n",
        "#plot data\n",
        "p = sns.lineplot(train_scores,marker='*',label='Train Score')\n",
        "p = sns.lineplot(test_scores,marker='o',label='Test Score')\n",
        "plt.xlabel(\"K\")\n",
        "plt.ylabel(\"Accuracy\")"
      ],
      "metadata": {
        "id": "wTnnhefHKuTt",
        "colab": {
          "base_uri": "https://localhost:8080/",
          "height": 708
        },
        "outputId": "b4852bd2-0474-452a-ef3a-55cb4c709520"
      },
      "execution_count": null,
      "outputs": [
        {
          "output_type": "execute_result",
          "data": {
            "text/plain": [
              "Text(0, 0.5, 'Accuracy')"
            ]
          },
          "metadata": {},
          "execution_count": 110
        },
        {
          "output_type": "display_data",
          "data": {
            "text/plain": [
              "<Figure size 1200x500 with 0 Axes>"
            ]
          },
          "metadata": {}
        },
        {
          "output_type": "display_data",
          "data": {
            "text/plain": [
              "<Figure size 1200x500 with 0 Axes>"
            ]
          },
          "metadata": {}
        },
        {
          "output_type": "display_data",
          "data": {
            "text/plain": [
              "<Figure size 1200x500 with 0 Axes>"
            ]
          },
          "metadata": {}
        },
        {
          "output_type": "display_data",
          "data": {
            "text/plain": [
              "<Figure size 1200x500 with 0 Axes>"
            ]
          },
          "metadata": {}
        },
        {
          "output_type": "display_data",
          "data": {
            "text/plain": [
              "<Figure size 1200x500 with 0 Axes>"
            ]
          },
          "metadata": {}
        },
        {
          "output_type": "display_data",
          "data": {
            "text/plain": [
              "<Figure size 1200x500 with 0 Axes>"
            ]
          },
          "metadata": {}
        },
        {
          "output_type": "display_data",
          "data": {
            "text/plain": [
              "<Figure size 1200x500 with 0 Axes>"
            ]
          },
          "metadata": {}
        },
        {
          "output_type": "display_data",
          "data": {
            "text/plain": [
              "<Figure size 1200x500 with 0 Axes>"
            ]
          },
          "metadata": {}
        },
        {
          "output_type": "display_data",
          "data": {
            "text/plain": [
              "<Figure size 1200x500 with 0 Axes>"
            ]
          },
          "metadata": {}
        },
        {
          "output_type": "display_data",
          "data": {
            "text/plain": [
              "<Figure size 1200x500 with 0 Axes>"
            ]
          },
          "metadata": {}
        },
        {
          "output_type": "display_data",
          "data": {
            "text/plain": [
              "<Figure size 1200x500 with 0 Axes>"
            ]
          },
          "metadata": {}
        },
        {
          "output_type": "display_data",
          "data": {
            "text/plain": [
              "<Figure size 1200x500 with 0 Axes>"
            ]
          },
          "metadata": {}
        },
        {
          "output_type": "display_data",
          "data": {
            "text/plain": [
              "<Figure size 1200x500 with 0 Axes>"
            ]
          },
          "metadata": {}
        },
        {
          "output_type": "display_data",
          "data": {
            "text/plain": [
              "<Figure size 1200x500 with 1 Axes>"
            ],
            "image/png": "[encoded data removed]"
          },
          "metadata": {}
        }
      ]
    },
    {
      "cell_type": "markdown",
      "source": [
        "KNN Prediction Model with Chosen Neighbors"
      ],
      "metadata": {
        "id": "f8UVWmJB3Y-G"
      }
    },
    {
      "cell_type": "code",
      "source": [
        "#Choose 7 neighbors from graph\n",
        "knn = KNeighborsClassifier(7)\n",
        "\n",
        "#train model\n",
        "knn.fit(X_train,y_train)\n",
        "knn.score(X_test,y_test)\n",
        "#select value to test model\n",
        "t=X_test[0]\n",
        "#print out prediction\n",
        "print(\"Predicted Class: \",knn.predict(t.reshape(1,-1)))\n",
        "print(\"True Class: \",y_test[0])\n",
        "#generate predicted values from model\n",
        "y_pred = knn.predict(X_test)\n",
        "\n",
        "#confusion matrix\n",
        "conf_mat = confusion_matrix(y_test, y_pred)\n",
        "sns.heatmap(conf_mat, annot=True, fmt='d')\n",
        "plt.xlabel('Predicted')\n",
        "plt.ylabel('Actual')\n",
        "plt.show()\n",
        "print(classification_report(y_test,y_pred))"
      ],
      "metadata": {
        "id": "Sy9Ls4IzekiM",
        "colab": {
          "base_uri": "https://localhost:8080/",
          "height": 640
        },
        "outputId": "96abbe8e-374c-42e4-e77f-87c86b9c5bf6"
      },
      "execution_count": null,
      "outputs": [
        {
          "output_type": "stream",
          "name": "stdout",
          "text": [
            "Predicted Class:  [1.]\n",
            "True Class:  0.0\n"
          ]
        },
        {
          "output_type": "display_data",
          "data": {
            "text/plain": [
              "<Figure size 640x480 with 2 Axes>"
            ],
            "image/png": "[encoded data removed]"
          },
          "metadata": {}
        },
        {
          "output_type": "stream",
          "name": "stdout",
          "text": [
            "              precision    recall  f1-score   support\n",
            "\n",
            "         0.0       0.80      0.43      0.56      1412\n",
            "         1.0       0.80      0.95      0.87      3307\n",
            "\n",
            "    accuracy                           0.80      4719\n",
            "   macro avg       0.80      0.69      0.72      4719\n",
            "weighted avg       0.80      0.80      0.78      4719\n",
            "\n"
          ]
        }
      ]
    }
  ]
}